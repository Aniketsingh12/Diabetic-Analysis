{
 "cells": [
  {
   "cell_type": "code",
   "execution_count": 1,
   "id": "3b6adc92",
   "metadata": {
    "ExecuteTime": {
     "end_time": "2022-07-21T15:38:07.732775Z",
     "start_time": "2022-07-21T15:38:07.277255Z"
    }
   },
   "outputs": [],
   "source": [
    "import numpy as np\n",
    "import pandas as pd"
   ]
  },
  {
   "cell_type": "code",
   "execution_count": 2,
   "id": "2aa03f3f",
   "metadata": {
    "ExecuteTime": {
     "end_time": "2022-07-21T15:38:07.844913Z",
     "start_time": "2022-07-21T15:38:07.734774Z"
    }
   },
   "outputs": [],
   "source": [
    "df = pd.read_csv('dataset_diabetes_diabetic_data.csv')"
   ]
  },
  {
   "cell_type": "code",
   "execution_count": 3,
   "id": "6f8fd45c",
   "metadata": {
    "ExecuteTime": {
     "end_time": "2022-07-21T15:38:07.876921Z",
     "start_time": "2022-07-21T15:38:07.846914Z"
    }
   },
   "outputs": [
    {
     "data": {
      "text/html": [
       "<div>\n",
       "<style scoped>\n",
       "    .dataframe tbody tr th:only-of-type {\n",
       "        vertical-align: middle;\n",
       "    }\n",
       "\n",
       "    .dataframe tbody tr th {\n",
       "        vertical-align: top;\n",
       "    }\n",
       "\n",
       "    .dataframe thead th {\n",
       "        text-align: right;\n",
       "    }\n",
       "</style>\n",
       "<table border=\"1\" class=\"dataframe\">\n",
       "  <thead>\n",
       "    <tr style=\"text-align: right;\">\n",
       "      <th></th>\n",
       "      <th>patient_nbr</th>\n",
       "      <th>race</th>\n",
       "      <th>gender</th>\n",
       "      <th>age</th>\n",
       "      <th>admission_type_id</th>\n",
       "      <th>discharge_disposition_id</th>\n",
       "      <th>admission_source_id</th>\n",
       "      <th>time_in_hospital</th>\n",
       "      <th>num_lab_procedures</th>\n",
       "      <th>num_procedures</th>\n",
       "      <th>num_medications</th>\n",
       "      <th>number_outpatient</th>\n",
       "      <th>number_emergency</th>\n",
       "      <th>number_inpatient</th>\n",
       "      <th>diag_1</th>\n",
       "      <th>diag_2</th>\n",
       "      <th>diag_3</th>\n",
       "      <th>number_diagnoses</th>\n",
       "      <th>change</th>\n",
       "      <th>diabatic</th>\n",
       "    </tr>\n",
       "  </thead>\n",
       "  <tbody>\n",
       "    <tr>\n",
       "      <th>0</th>\n",
       "      <td>8222157</td>\n",
       "      <td>Caucasian</td>\n",
       "      <td>Female</td>\n",
       "      <td>[0-10)</td>\n",
       "      <td>6</td>\n",
       "      <td>25</td>\n",
       "      <td>1</td>\n",
       "      <td>1</td>\n",
       "      <td>41</td>\n",
       "      <td>0</td>\n",
       "      <td>1</td>\n",
       "      <td>0</td>\n",
       "      <td>0</td>\n",
       "      <td>0</td>\n",
       "      <td>250.83</td>\n",
       "      <td>?</td>\n",
       "      <td>?</td>\n",
       "      <td>1</td>\n",
       "      <td>No</td>\n",
       "      <td>No</td>\n",
       "    </tr>\n",
       "    <tr>\n",
       "      <th>1</th>\n",
       "      <td>55629189</td>\n",
       "      <td>Caucasian</td>\n",
       "      <td>Female</td>\n",
       "      <td>[10-20)</td>\n",
       "      <td>1</td>\n",
       "      <td>1</td>\n",
       "      <td>7</td>\n",
       "      <td>3</td>\n",
       "      <td>59</td>\n",
       "      <td>0</td>\n",
       "      <td>18</td>\n",
       "      <td>0</td>\n",
       "      <td>0</td>\n",
       "      <td>0</td>\n",
       "      <td>276</td>\n",
       "      <td>250.01</td>\n",
       "      <td>255</td>\n",
       "      <td>9</td>\n",
       "      <td>Ch</td>\n",
       "      <td>Yes</td>\n",
       "    </tr>\n",
       "    <tr>\n",
       "      <th>2</th>\n",
       "      <td>86047875</td>\n",
       "      <td>AfricanAmerican</td>\n",
       "      <td>Female</td>\n",
       "      <td>[20-30)</td>\n",
       "      <td>1</td>\n",
       "      <td>1</td>\n",
       "      <td>7</td>\n",
       "      <td>2</td>\n",
       "      <td>11</td>\n",
       "      <td>5</td>\n",
       "      <td>13</td>\n",
       "      <td>2</td>\n",
       "      <td>0</td>\n",
       "      <td>1</td>\n",
       "      <td>648</td>\n",
       "      <td>250</td>\n",
       "      <td>V27</td>\n",
       "      <td>6</td>\n",
       "      <td>No</td>\n",
       "      <td>Yes</td>\n",
       "    </tr>\n",
       "    <tr>\n",
       "      <th>3</th>\n",
       "      <td>82442376</td>\n",
       "      <td>Caucasian</td>\n",
       "      <td>Male</td>\n",
       "      <td>[30-40)</td>\n",
       "      <td>1</td>\n",
       "      <td>1</td>\n",
       "      <td>7</td>\n",
       "      <td>2</td>\n",
       "      <td>44</td>\n",
       "      <td>1</td>\n",
       "      <td>16</td>\n",
       "      <td>0</td>\n",
       "      <td>0</td>\n",
       "      <td>0</td>\n",
       "      <td>8</td>\n",
       "      <td>250.43</td>\n",
       "      <td>403</td>\n",
       "      <td>7</td>\n",
       "      <td>Ch</td>\n",
       "      <td>Yes</td>\n",
       "    </tr>\n",
       "    <tr>\n",
       "      <th>4</th>\n",
       "      <td>42519267</td>\n",
       "      <td>Caucasian</td>\n",
       "      <td>Male</td>\n",
       "      <td>[40-50)</td>\n",
       "      <td>1</td>\n",
       "      <td>1</td>\n",
       "      <td>7</td>\n",
       "      <td>1</td>\n",
       "      <td>51</td>\n",
       "      <td>0</td>\n",
       "      <td>8</td>\n",
       "      <td>0</td>\n",
       "      <td>0</td>\n",
       "      <td>0</td>\n",
       "      <td>197</td>\n",
       "      <td>157</td>\n",
       "      <td>250</td>\n",
       "      <td>5</td>\n",
       "      <td>Ch</td>\n",
       "      <td>Yes</td>\n",
       "    </tr>\n",
       "    <tr>\n",
       "      <th>5</th>\n",
       "      <td>82637451</td>\n",
       "      <td>Caucasian</td>\n",
       "      <td>Male</td>\n",
       "      <td>[50-60)</td>\n",
       "      <td>2</td>\n",
       "      <td>1</td>\n",
       "      <td>2</td>\n",
       "      <td>3</td>\n",
       "      <td>31</td>\n",
       "      <td>6</td>\n",
       "      <td>16</td>\n",
       "      <td>0</td>\n",
       "      <td>0</td>\n",
       "      <td>0</td>\n",
       "      <td>414</td>\n",
       "      <td>411</td>\n",
       "      <td>250</td>\n",
       "      <td>9</td>\n",
       "      <td>No</td>\n",
       "      <td>Yes</td>\n",
       "    </tr>\n",
       "    <tr>\n",
       "      <th>6</th>\n",
       "      <td>84259809</td>\n",
       "      <td>Caucasian</td>\n",
       "      <td>Male</td>\n",
       "      <td>[60-70)</td>\n",
       "      <td>3</td>\n",
       "      <td>1</td>\n",
       "      <td>2</td>\n",
       "      <td>4</td>\n",
       "      <td>70</td>\n",
       "      <td>1</td>\n",
       "      <td>21</td>\n",
       "      <td>0</td>\n",
       "      <td>0</td>\n",
       "      <td>0</td>\n",
       "      <td>414</td>\n",
       "      <td>411</td>\n",
       "      <td>V45</td>\n",
       "      <td>7</td>\n",
       "      <td>Ch</td>\n",
       "      <td>Yes</td>\n",
       "    </tr>\n",
       "    <tr>\n",
       "      <th>7</th>\n",
       "      <td>114882984</td>\n",
       "      <td>Caucasian</td>\n",
       "      <td>Male</td>\n",
       "      <td>[70-80)</td>\n",
       "      <td>1</td>\n",
       "      <td>1</td>\n",
       "      <td>7</td>\n",
       "      <td>5</td>\n",
       "      <td>73</td>\n",
       "      <td>0</td>\n",
       "      <td>12</td>\n",
       "      <td>0</td>\n",
       "      <td>0</td>\n",
       "      <td>0</td>\n",
       "      <td>428</td>\n",
       "      <td>492</td>\n",
       "      <td>250</td>\n",
       "      <td>8</td>\n",
       "      <td>No</td>\n",
       "      <td>Yes</td>\n",
       "    </tr>\n",
       "    <tr>\n",
       "      <th>8</th>\n",
       "      <td>48330783</td>\n",
       "      <td>Caucasian</td>\n",
       "      <td>Female</td>\n",
       "      <td>[80-90)</td>\n",
       "      <td>2</td>\n",
       "      <td>1</td>\n",
       "      <td>4</td>\n",
       "      <td>13</td>\n",
       "      <td>68</td>\n",
       "      <td>2</td>\n",
       "      <td>28</td>\n",
       "      <td>0</td>\n",
       "      <td>0</td>\n",
       "      <td>0</td>\n",
       "      <td>398</td>\n",
       "      <td>427</td>\n",
       "      <td>38</td>\n",
       "      <td>8</td>\n",
       "      <td>Ch</td>\n",
       "      <td>Yes</td>\n",
       "    </tr>\n",
       "    <tr>\n",
       "      <th>9</th>\n",
       "      <td>63555939</td>\n",
       "      <td>Caucasian</td>\n",
       "      <td>Female</td>\n",
       "      <td>[90-100)</td>\n",
       "      <td>3</td>\n",
       "      <td>3</td>\n",
       "      <td>4</td>\n",
       "      <td>12</td>\n",
       "      <td>33</td>\n",
       "      <td>3</td>\n",
       "      <td>18</td>\n",
       "      <td>0</td>\n",
       "      <td>0</td>\n",
       "      <td>0</td>\n",
       "      <td>434</td>\n",
       "      <td>198</td>\n",
       "      <td>486</td>\n",
       "      <td>8</td>\n",
       "      <td>Ch</td>\n",
       "      <td>Yes</td>\n",
       "    </tr>\n",
       "  </tbody>\n",
       "</table>\n",
       "</div>"
      ],
      "text/plain": [
       "   patient_nbr             race  gender       age  admission_type_id  \\\n",
       "0      8222157        Caucasian  Female    [0-10)                  6   \n",
       "1     55629189        Caucasian  Female   [10-20)                  1   \n",
       "2     86047875  AfricanAmerican  Female   [20-30)                  1   \n",
       "3     82442376        Caucasian    Male   [30-40)                  1   \n",
       "4     42519267        Caucasian    Male   [40-50)                  1   \n",
       "5     82637451        Caucasian    Male   [50-60)                  2   \n",
       "6     84259809        Caucasian    Male   [60-70)                  3   \n",
       "7    114882984        Caucasian    Male   [70-80)                  1   \n",
       "8     48330783        Caucasian  Female   [80-90)                  2   \n",
       "9     63555939        Caucasian  Female  [90-100)                  3   \n",
       "\n",
       "   discharge_disposition_id  admission_source_id  time_in_hospital  \\\n",
       "0                        25                    1                 1   \n",
       "1                         1                    7                 3   \n",
       "2                         1                    7                 2   \n",
       "3                         1                    7                 2   \n",
       "4                         1                    7                 1   \n",
       "5                         1                    2                 3   \n",
       "6                         1                    2                 4   \n",
       "7                         1                    7                 5   \n",
       "8                         1                    4                13   \n",
       "9                         3                    4                12   \n",
       "\n",
       "   num_lab_procedures  num_procedures  num_medications  number_outpatient  \\\n",
       "0                  41               0                1                  0   \n",
       "1                  59               0               18                  0   \n",
       "2                  11               5               13                  2   \n",
       "3                  44               1               16                  0   \n",
       "4                  51               0                8                  0   \n",
       "5                  31               6               16                  0   \n",
       "6                  70               1               21                  0   \n",
       "7                  73               0               12                  0   \n",
       "8                  68               2               28                  0   \n",
       "9                  33               3               18                  0   \n",
       "\n",
       "   number_emergency  number_inpatient  diag_1  diag_2 diag_3  \\\n",
       "0                 0                 0  250.83       ?      ?   \n",
       "1                 0                 0     276  250.01    255   \n",
       "2                 0                 1     648     250    V27   \n",
       "3                 0                 0       8  250.43    403   \n",
       "4                 0                 0     197     157    250   \n",
       "5                 0                 0     414     411    250   \n",
       "6                 0                 0     414     411    V45   \n",
       "7                 0                 0     428     492    250   \n",
       "8                 0                 0     398     427     38   \n",
       "9                 0                 0     434     198    486   \n",
       "\n",
       "   number_diagnoses change diabatic  \n",
       "0                 1     No       No  \n",
       "1                 9     Ch      Yes  \n",
       "2                 6     No      Yes  \n",
       "3                 7     Ch      Yes  \n",
       "4                 5     Ch      Yes  \n",
       "5                 9     No      Yes  \n",
       "6                 7     Ch      Yes  \n",
       "7                 8     No      Yes  \n",
       "8                 8     Ch      Yes  \n",
       "9                 8     Ch      Yes  "
      ]
     },
     "execution_count": 3,
     "metadata": {},
     "output_type": "execute_result"
    }
   ],
   "source": [
    "df.head(10)"
   ]
  },
  {
   "cell_type": "code",
   "execution_count": 4,
   "id": "fc99c0d4",
   "metadata": {
    "ExecuteTime": {
     "end_time": "2022-07-21T15:38:07.892924Z",
     "start_time": "2022-07-21T15:38:07.879922Z"
    }
   },
   "outputs": [],
   "source": [
    "df.drop(columns='patient_nbr',inplace=True)"
   ]
  },
  {
   "cell_type": "code",
   "execution_count": null,
   "id": "8ba6cbb0",
   "metadata": {},
   "outputs": [],
   "source": []
  },
  {
   "cell_type": "code",
   "execution_count": null,
   "id": "c938849a",
   "metadata": {},
   "outputs": [],
   "source": []
  },
  {
   "cell_type": "code",
   "execution_count": 5,
   "id": "45730fca",
   "metadata": {
    "ExecuteTime": {
     "end_time": "2022-07-21T15:38:07.972944Z",
     "start_time": "2022-07-21T15:38:07.893924Z"
    }
   },
   "outputs": [
    {
     "name": "stdout",
     "output_type": "stream",
     "text": [
      "<class 'pandas.core.frame.DataFrame'>\n",
      "RangeIndex: 70180 entries, 0 to 70179\n",
      "Data columns (total 19 columns):\n",
      " #   Column                    Non-Null Count  Dtype \n",
      "---  ------                    --------------  ----- \n",
      " 0   race                      70180 non-null  object\n",
      " 1   gender                    70180 non-null  object\n",
      " 2   age                       70180 non-null  object\n",
      " 3   admission_type_id         70180 non-null  int64 \n",
      " 4   discharge_disposition_id  70180 non-null  int64 \n",
      " 5   admission_source_id       70180 non-null  int64 \n",
      " 6   time_in_hospital          70180 non-null  int64 \n",
      " 7   num_lab_procedures        70180 non-null  int64 \n",
      " 8   num_procedures            70180 non-null  int64 \n",
      " 9   num_medications           70180 non-null  int64 \n",
      " 10  number_outpatient         70180 non-null  int64 \n",
      " 11  number_emergency          70180 non-null  int64 \n",
      " 12  number_inpatient          70180 non-null  int64 \n",
      " 13  diag_1                    70180 non-null  object\n",
      " 14  diag_2                    70180 non-null  object\n",
      " 15  diag_3                    70180 non-null  object\n",
      " 16  number_diagnoses          70180 non-null  int64 \n",
      " 17  change                    70180 non-null  object\n",
      " 18  diabatic                  70180 non-null  object\n",
      "dtypes: int64(11), object(8)\n",
      "memory usage: 10.2+ MB\n"
     ]
    }
   ],
   "source": [
    "df.info()"
   ]
  },
  {
   "cell_type": "code",
   "execution_count": 6,
   "id": "65a3051a",
   "metadata": {
    "ExecuteTime": {
     "end_time": "2022-07-21T15:38:07.987946Z",
     "start_time": "2022-07-21T15:38:07.973942Z"
    }
   },
   "outputs": [
    {
     "data": {
      "text/plain": [
       "(70180, 19)"
      ]
     },
     "execution_count": 6,
     "metadata": {},
     "output_type": "execute_result"
    }
   ],
   "source": [
    "df.shape"
   ]
  },
  {
   "cell_type": "code",
   "execution_count": 7,
   "id": "b4f61627",
   "metadata": {
    "ExecuteTime": {
     "end_time": "2022-07-21T15:38:08.034956Z",
     "start_time": "2022-07-21T15:38:07.989947Z"
    }
   },
   "outputs": [
    {
     "data": {
      "text/plain": [
       "race                          6\n",
       "gender                        3\n",
       "age                          10\n",
       "admission_type_id             8\n",
       "discharge_disposition_id     26\n",
       "admission_source_id          13\n",
       "time_in_hospital             14\n",
       "num_lab_procedures          116\n",
       "num_procedures                7\n",
       "num_medications              74\n",
       "number_outpatient            29\n",
       "number_emergency             19\n",
       "number_inpatient             21\n",
       "diag_1                      685\n",
       "diag_2                      702\n",
       "diag_3                      727\n",
       "number_diagnoses             16\n",
       "change                        2\n",
       "diabatic                      2\n",
       "dtype: int64"
      ]
     },
     "execution_count": 7,
     "metadata": {},
     "output_type": "execute_result"
    }
   ],
   "source": [
    "df.nunique()"
   ]
  },
  {
   "cell_type": "code",
   "execution_count": null,
   "id": "7d64fe32",
   "metadata": {
    "ExecuteTime": {
     "end_time": "2022-07-21T10:00:30.463875Z",
     "start_time": "2022-07-21T10:00:30.270214Z"
    }
   },
   "outputs": [],
   "source": []
  },
  {
   "cell_type": "code",
   "execution_count": 8,
   "id": "2a42e68a",
   "metadata": {
    "ExecuteTime": {
     "end_time": "2022-07-21T15:38:08.050961Z",
     "start_time": "2022-07-21T15:38:08.036957Z"
    }
   },
   "outputs": [
    {
     "data": {
      "text/plain": [
       "19"
      ]
     },
     "execution_count": 8,
     "metadata": {},
     "output_type": "execute_result"
    }
   ],
   "source": [
    "df[df['diag_1']=='?'].value_counts().sum()"
   ]
  },
  {
   "cell_type": "code",
   "execution_count": 9,
   "id": "8f5d74ce",
   "metadata": {
    "ExecuteTime": {
     "end_time": "2022-07-21T15:38:08.066964Z",
     "start_time": "2022-07-21T15:38:08.052961Z"
    }
   },
   "outputs": [
    {
     "data": {
      "text/plain": [
       "304"
      ]
     },
     "execution_count": 9,
     "metadata": {},
     "output_type": "execute_result"
    }
   ],
   "source": [
    "df[df['diag_2']=='?'].value_counts().sum()"
   ]
  },
  {
   "cell_type": "code",
   "execution_count": 10,
   "id": "5efd0c09",
   "metadata": {
    "ExecuteTime": {
     "end_time": "2022-07-21T15:38:08.098971Z",
     "start_time": "2022-07-21T15:38:08.068965Z"
    }
   },
   "outputs": [
    {
     "data": {
      "text/plain": [
       "1237"
      ]
     },
     "execution_count": 10,
     "metadata": {},
     "output_type": "execute_result"
    }
   ],
   "source": [
    "df[df['diag_3']=='?'].value_counts().sum()"
   ]
  },
  {
   "cell_type": "code",
   "execution_count": 129,
   "id": "5ebefefd",
   "metadata": {
    "ExecuteTime": {
     "end_time": "2022-07-21T18:31:13.784121Z",
     "start_time": "2022-07-21T18:31:13.771471Z"
    }
   },
   "outputs": [
    {
     "data": {
      "text/plain": [
       "1461"
      ]
     },
     "execution_count": 129,
     "metadata": {},
     "output_type": "execute_result"
    }
   ],
   "source": [
    "df1['race'].value_counts()['?']"
   ]
  },
  {
   "cell_type": "code",
   "execution_count": 11,
   "id": "e4916f41",
   "metadata": {
    "ExecuteTime": {
     "end_time": "2022-07-21T15:38:08.114174Z",
     "start_time": "2022-07-21T15:38:08.100973Z"
    }
   },
   "outputs": [],
   "source": [
    "df1 = df.drop(columns='diag_1')"
   ]
  },
  {
   "cell_type": "code",
   "execution_count": 12,
   "id": "dee4e150",
   "metadata": {
    "ExecuteTime": {
     "end_time": "2022-07-21T15:38:08.145625Z",
     "start_time": "2022-07-21T15:38:08.116175Z"
    }
   },
   "outputs": [],
   "source": [
    "df1 = df1.drop(columns='diag_2')\n",
    "df1 = df1.drop(columns='diag_3')"
   ]
  },
  {
   "cell_type": "code",
   "execution_count": 13,
   "id": "e1587d32",
   "metadata": {
    "ExecuteTime": {
     "end_time": "2022-07-21T15:38:08.161629Z",
     "start_time": "2022-07-21T15:38:08.147625Z"
    }
   },
   "outputs": [
    {
     "data": {
      "text/html": [
       "<div>\n",
       "<style scoped>\n",
       "    .dataframe tbody tr th:only-of-type {\n",
       "        vertical-align: middle;\n",
       "    }\n",
       "\n",
       "    .dataframe tbody tr th {\n",
       "        vertical-align: top;\n",
       "    }\n",
       "\n",
       "    .dataframe thead th {\n",
       "        text-align: right;\n",
       "    }\n",
       "</style>\n",
       "<table border=\"1\" class=\"dataframe\">\n",
       "  <thead>\n",
       "    <tr style=\"text-align: right;\">\n",
       "      <th></th>\n",
       "      <th>race</th>\n",
       "      <th>gender</th>\n",
       "      <th>age</th>\n",
       "      <th>admission_type_id</th>\n",
       "      <th>discharge_disposition_id</th>\n",
       "      <th>admission_source_id</th>\n",
       "      <th>time_in_hospital</th>\n",
       "      <th>num_lab_procedures</th>\n",
       "      <th>num_procedures</th>\n",
       "      <th>num_medications</th>\n",
       "      <th>number_outpatient</th>\n",
       "      <th>number_emergency</th>\n",
       "      <th>number_inpatient</th>\n",
       "      <th>number_diagnoses</th>\n",
       "      <th>change</th>\n",
       "      <th>diabatic</th>\n",
       "    </tr>\n",
       "  </thead>\n",
       "  <tbody>\n",
       "    <tr>\n",
       "      <th>0</th>\n",
       "      <td>Caucasian</td>\n",
       "      <td>Female</td>\n",
       "      <td>[0-10)</td>\n",
       "      <td>6</td>\n",
       "      <td>25</td>\n",
       "      <td>1</td>\n",
       "      <td>1</td>\n",
       "      <td>41</td>\n",
       "      <td>0</td>\n",
       "      <td>1</td>\n",
       "      <td>0</td>\n",
       "      <td>0</td>\n",
       "      <td>0</td>\n",
       "      <td>1</td>\n",
       "      <td>No</td>\n",
       "      <td>No</td>\n",
       "    </tr>\n",
       "    <tr>\n",
       "      <th>1</th>\n",
       "      <td>Caucasian</td>\n",
       "      <td>Female</td>\n",
       "      <td>[10-20)</td>\n",
       "      <td>1</td>\n",
       "      <td>1</td>\n",
       "      <td>7</td>\n",
       "      <td>3</td>\n",
       "      <td>59</td>\n",
       "      <td>0</td>\n",
       "      <td>18</td>\n",
       "      <td>0</td>\n",
       "      <td>0</td>\n",
       "      <td>0</td>\n",
       "      <td>9</td>\n",
       "      <td>Ch</td>\n",
       "      <td>Yes</td>\n",
       "    </tr>\n",
       "    <tr>\n",
       "      <th>2</th>\n",
       "      <td>AfricanAmerican</td>\n",
       "      <td>Female</td>\n",
       "      <td>[20-30)</td>\n",
       "      <td>1</td>\n",
       "      <td>1</td>\n",
       "      <td>7</td>\n",
       "      <td>2</td>\n",
       "      <td>11</td>\n",
       "      <td>5</td>\n",
       "      <td>13</td>\n",
       "      <td>2</td>\n",
       "      <td>0</td>\n",
       "      <td>1</td>\n",
       "      <td>6</td>\n",
       "      <td>No</td>\n",
       "      <td>Yes</td>\n",
       "    </tr>\n",
       "    <tr>\n",
       "      <th>3</th>\n",
       "      <td>Caucasian</td>\n",
       "      <td>Male</td>\n",
       "      <td>[30-40)</td>\n",
       "      <td>1</td>\n",
       "      <td>1</td>\n",
       "      <td>7</td>\n",
       "      <td>2</td>\n",
       "      <td>44</td>\n",
       "      <td>1</td>\n",
       "      <td>16</td>\n",
       "      <td>0</td>\n",
       "      <td>0</td>\n",
       "      <td>0</td>\n",
       "      <td>7</td>\n",
       "      <td>Ch</td>\n",
       "      <td>Yes</td>\n",
       "    </tr>\n",
       "    <tr>\n",
       "      <th>4</th>\n",
       "      <td>Caucasian</td>\n",
       "      <td>Male</td>\n",
       "      <td>[40-50)</td>\n",
       "      <td>1</td>\n",
       "      <td>1</td>\n",
       "      <td>7</td>\n",
       "      <td>1</td>\n",
       "      <td>51</td>\n",
       "      <td>0</td>\n",
       "      <td>8</td>\n",
       "      <td>0</td>\n",
       "      <td>0</td>\n",
       "      <td>0</td>\n",
       "      <td>5</td>\n",
       "      <td>Ch</td>\n",
       "      <td>Yes</td>\n",
       "    </tr>\n",
       "  </tbody>\n",
       "</table>\n",
       "</div>"
      ],
      "text/plain": [
       "              race  gender      age  admission_type_id  \\\n",
       "0        Caucasian  Female   [0-10)                  6   \n",
       "1        Caucasian  Female  [10-20)                  1   \n",
       "2  AfricanAmerican  Female  [20-30)                  1   \n",
       "3        Caucasian    Male  [30-40)                  1   \n",
       "4        Caucasian    Male  [40-50)                  1   \n",
       "\n",
       "   discharge_disposition_id  admission_source_id  time_in_hospital  \\\n",
       "0                        25                    1                 1   \n",
       "1                         1                    7                 3   \n",
       "2                         1                    7                 2   \n",
       "3                         1                    7                 2   \n",
       "4                         1                    7                 1   \n",
       "\n",
       "   num_lab_procedures  num_procedures  num_medications  number_outpatient  \\\n",
       "0                  41               0                1                  0   \n",
       "1                  59               0               18                  0   \n",
       "2                  11               5               13                  2   \n",
       "3                  44               1               16                  0   \n",
       "4                  51               0                8                  0   \n",
       "\n",
       "   number_emergency  number_inpatient  number_diagnoses change diabatic  \n",
       "0                 0                 0                 1     No       No  \n",
       "1                 0                 0                 9     Ch      Yes  \n",
       "2                 0                 1                 6     No      Yes  \n",
       "3                 0                 0                 7     Ch      Yes  \n",
       "4                 0                 0                 5     Ch      Yes  "
      ]
     },
     "execution_count": 13,
     "metadata": {},
     "output_type": "execute_result"
    }
   ],
   "source": [
    "df1.head()"
   ]
  },
  {
   "cell_type": "code",
   "execution_count": 14,
   "id": "2641233e",
   "metadata": {
    "ExecuteTime": {
     "end_time": "2022-07-21T15:38:08.177633Z",
     "start_time": "2022-07-21T15:38:08.163628Z"
    }
   },
   "outputs": [
    {
     "data": {
      "text/plain": [
       "(70180, 19)"
      ]
     },
     "execution_count": 14,
     "metadata": {},
     "output_type": "execute_result"
    }
   ],
   "source": [
    "df.shape"
   ]
  },
  {
   "cell_type": "code",
   "execution_count": 15,
   "id": "775a619d",
   "metadata": {
    "ExecuteTime": {
     "end_time": "2022-07-21T15:38:08.240453Z",
     "start_time": "2022-07-21T15:38:08.179632Z"
    }
   },
   "outputs": [
    {
     "data": {
      "text/plain": [
       "0        False\n",
       "1        False\n",
       "2        False\n",
       "3        False\n",
       "4        False\n",
       "         ...  \n",
       "70175    False\n",
       "70176    False\n",
       "70177    False\n",
       "70178    False\n",
       "70179    False\n",
       "Length: 70180, dtype: bool"
      ]
     },
     "execution_count": 15,
     "metadata": {},
     "output_type": "execute_result"
    }
   ],
   "source": [
    "df.duplicated()"
   ]
  },
  {
   "cell_type": "code",
   "execution_count": 16,
   "id": "f3de0675",
   "metadata": {
    "ExecuteTime": {
     "end_time": "2022-07-21T15:38:08.256455Z",
     "start_time": "2022-07-21T15:38:08.242452Z"
    }
   },
   "outputs": [
    {
     "data": {
      "text/plain": [
       "(70180, 19)"
      ]
     },
     "execution_count": 16,
     "metadata": {},
     "output_type": "execute_result"
    }
   ],
   "source": [
    "df.shape"
   ]
  },
  {
   "cell_type": "code",
   "execution_count": 17,
   "id": "c7f0dcde",
   "metadata": {
    "ExecuteTime": {
     "end_time": "2022-07-21T15:38:08.304425Z",
     "start_time": "2022-07-21T15:38:08.258455Z"
    }
   },
   "outputs": [],
   "source": [
    "dups = df1.duplicated()"
   ]
  },
  {
   "cell_type": "code",
   "execution_count": 18,
   "id": "c03f1249",
   "metadata": {
    "ExecuteTime": {
     "end_time": "2022-07-21T15:38:08.350519Z",
     "start_time": "2022-07-21T15:38:08.306427Z"
    }
   },
   "outputs": [],
   "source": [
    "df1[df1.select_dtypes(['object']).columns] = df1.select_dtypes(['object']).apply(lambda x: x.astype('category'))"
   ]
  },
  {
   "cell_type": "code",
   "execution_count": 19,
   "id": "d1a6acfd",
   "metadata": {
    "ExecuteTime": {
     "end_time": "2022-07-21T15:38:08.366523Z",
     "start_time": "2022-07-21T15:38:08.352519Z"
    },
    "scrolled": true
   },
   "outputs": [
    {
     "name": "stdout",
     "output_type": "stream",
     "text": [
      "<class 'pandas.core.frame.DataFrame'>\n",
      "RangeIndex: 70180 entries, 0 to 70179\n",
      "Data columns (total 16 columns):\n",
      " #   Column                    Non-Null Count  Dtype   \n",
      "---  ------                    --------------  -----   \n",
      " 0   race                      70180 non-null  category\n",
      " 1   gender                    70180 non-null  category\n",
      " 2   age                       70180 non-null  category\n",
      " 3   admission_type_id         70180 non-null  int64   \n",
      " 4   discharge_disposition_id  70180 non-null  int64   \n",
      " 5   admission_source_id       70180 non-null  int64   \n",
      " 6   time_in_hospital          70180 non-null  int64   \n",
      " 7   num_lab_procedures        70180 non-null  int64   \n",
      " 8   num_procedures            70180 non-null  int64   \n",
      " 9   num_medications           70180 non-null  int64   \n",
      " 10  number_outpatient         70180 non-null  int64   \n",
      " 11  number_emergency          70180 non-null  int64   \n",
      " 12  number_inpatient          70180 non-null  int64   \n",
      " 13  number_diagnoses          70180 non-null  int64   \n",
      " 14  change                    70180 non-null  category\n",
      " 15  diabatic                  70180 non-null  category\n",
      "dtypes: category(5), int64(11)\n",
      "memory usage: 6.2 MB\n"
     ]
    }
   ],
   "source": [
    "df1.info()"
   ]
  },
  {
   "cell_type": "code",
   "execution_count": 20,
   "id": "f7bdbbe0",
   "metadata": {
    "ExecuteTime": {
     "end_time": "2022-07-21T15:38:08.382527Z",
     "start_time": "2022-07-21T15:38:08.368524Z"
    },
    "scrolled": true
   },
   "outputs": [
    {
     "data": {
      "text/html": [
       "<div>\n",
       "<style scoped>\n",
       "    .dataframe tbody tr th:only-of-type {\n",
       "        vertical-align: middle;\n",
       "    }\n",
       "\n",
       "    .dataframe tbody tr th {\n",
       "        vertical-align: top;\n",
       "    }\n",
       "\n",
       "    .dataframe thead th {\n",
       "        text-align: right;\n",
       "    }\n",
       "</style>\n",
       "<table border=\"1\" class=\"dataframe\">\n",
       "  <thead>\n",
       "    <tr style=\"text-align: right;\">\n",
       "      <th></th>\n",
       "      <th>race</th>\n",
       "      <th>gender</th>\n",
       "      <th>age</th>\n",
       "      <th>admission_type_id</th>\n",
       "      <th>discharge_disposition_id</th>\n",
       "      <th>admission_source_id</th>\n",
       "      <th>time_in_hospital</th>\n",
       "      <th>num_lab_procedures</th>\n",
       "      <th>num_procedures</th>\n",
       "      <th>num_medications</th>\n",
       "      <th>number_outpatient</th>\n",
       "      <th>number_emergency</th>\n",
       "      <th>number_inpatient</th>\n",
       "      <th>number_diagnoses</th>\n",
       "      <th>change</th>\n",
       "      <th>diabatic</th>\n",
       "    </tr>\n",
       "  </thead>\n",
       "  <tbody>\n",
       "    <tr>\n",
       "      <th>0</th>\n",
       "      <td>Caucasian</td>\n",
       "      <td>Female</td>\n",
       "      <td>[0-10)</td>\n",
       "      <td>6</td>\n",
       "      <td>25</td>\n",
       "      <td>1</td>\n",
       "      <td>1</td>\n",
       "      <td>41</td>\n",
       "      <td>0</td>\n",
       "      <td>1</td>\n",
       "      <td>0</td>\n",
       "      <td>0</td>\n",
       "      <td>0</td>\n",
       "      <td>1</td>\n",
       "      <td>No</td>\n",
       "      <td>No</td>\n",
       "    </tr>\n",
       "    <tr>\n",
       "      <th>1</th>\n",
       "      <td>Caucasian</td>\n",
       "      <td>Female</td>\n",
       "      <td>[10-20)</td>\n",
       "      <td>1</td>\n",
       "      <td>1</td>\n",
       "      <td>7</td>\n",
       "      <td>3</td>\n",
       "      <td>59</td>\n",
       "      <td>0</td>\n",
       "      <td>18</td>\n",
       "      <td>0</td>\n",
       "      <td>0</td>\n",
       "      <td>0</td>\n",
       "      <td>9</td>\n",
       "      <td>Ch</td>\n",
       "      <td>Yes</td>\n",
       "    </tr>\n",
       "    <tr>\n",
       "      <th>2</th>\n",
       "      <td>AfricanAmerican</td>\n",
       "      <td>Female</td>\n",
       "      <td>[20-30)</td>\n",
       "      <td>1</td>\n",
       "      <td>1</td>\n",
       "      <td>7</td>\n",
       "      <td>2</td>\n",
       "      <td>11</td>\n",
       "      <td>5</td>\n",
       "      <td>13</td>\n",
       "      <td>2</td>\n",
       "      <td>0</td>\n",
       "      <td>1</td>\n",
       "      <td>6</td>\n",
       "      <td>No</td>\n",
       "      <td>Yes</td>\n",
       "    </tr>\n",
       "    <tr>\n",
       "      <th>3</th>\n",
       "      <td>Caucasian</td>\n",
       "      <td>Male</td>\n",
       "      <td>[30-40)</td>\n",
       "      <td>1</td>\n",
       "      <td>1</td>\n",
       "      <td>7</td>\n",
       "      <td>2</td>\n",
       "      <td>44</td>\n",
       "      <td>1</td>\n",
       "      <td>16</td>\n",
       "      <td>0</td>\n",
       "      <td>0</td>\n",
       "      <td>0</td>\n",
       "      <td>7</td>\n",
       "      <td>Ch</td>\n",
       "      <td>Yes</td>\n",
       "    </tr>\n",
       "    <tr>\n",
       "      <th>4</th>\n",
       "      <td>Caucasian</td>\n",
       "      <td>Male</td>\n",
       "      <td>[40-50)</td>\n",
       "      <td>1</td>\n",
       "      <td>1</td>\n",
       "      <td>7</td>\n",
       "      <td>1</td>\n",
       "      <td>51</td>\n",
       "      <td>0</td>\n",
       "      <td>8</td>\n",
       "      <td>0</td>\n",
       "      <td>0</td>\n",
       "      <td>0</td>\n",
       "      <td>5</td>\n",
       "      <td>Ch</td>\n",
       "      <td>Yes</td>\n",
       "    </tr>\n",
       "  </tbody>\n",
       "</table>\n",
       "</div>"
      ],
      "text/plain": [
       "              race  gender      age  admission_type_id  \\\n",
       "0        Caucasian  Female   [0-10)                  6   \n",
       "1        Caucasian  Female  [10-20)                  1   \n",
       "2  AfricanAmerican  Female  [20-30)                  1   \n",
       "3        Caucasian    Male  [30-40)                  1   \n",
       "4        Caucasian    Male  [40-50)                  1   \n",
       "\n",
       "   discharge_disposition_id  admission_source_id  time_in_hospital  \\\n",
       "0                        25                    1                 1   \n",
       "1                         1                    7                 3   \n",
       "2                         1                    7                 2   \n",
       "3                         1                    7                 2   \n",
       "4                         1                    7                 1   \n",
       "\n",
       "   num_lab_procedures  num_procedures  num_medications  number_outpatient  \\\n",
       "0                  41               0                1                  0   \n",
       "1                  59               0               18                  0   \n",
       "2                  11               5               13                  2   \n",
       "3                  44               1               16                  0   \n",
       "4                  51               0                8                  0   \n",
       "\n",
       "   number_emergency  number_inpatient  number_diagnoses change diabatic  \n",
       "0                 0                 0                 1     No       No  \n",
       "1                 0                 0                 9     Ch      Yes  \n",
       "2                 0                 1                 6     No      Yes  \n",
       "3                 0                 0                 7     Ch      Yes  \n",
       "4                 0                 0                 5     Ch      Yes  "
      ]
     },
     "execution_count": 20,
     "metadata": {},
     "output_type": "execute_result"
    }
   ],
   "source": [
    "df1.head()"
   ]
  },
  {
   "cell_type": "code",
   "execution_count": 22,
   "id": "c302352c",
   "metadata": {
    "ExecuteTime": {
     "end_time": "2022-07-21T15:38:08.855107Z",
     "start_time": "2022-07-21T15:38:08.842081Z"
    }
   },
   "outputs": [],
   "source": [
    "x = df1.iloc[:,:-1]"
   ]
  },
  {
   "cell_type": "code",
   "execution_count": 23,
   "id": "1b5a53ca",
   "metadata": {
    "ExecuteTime": {
     "end_time": "2022-07-21T15:38:08.870620Z",
     "start_time": "2022-07-21T15:38:08.857618Z"
    }
   },
   "outputs": [],
   "source": [
    "y = df1.iloc[:,-1]"
   ]
  },
  {
   "cell_type": "code",
   "execution_count": 24,
   "id": "f97b6b20",
   "metadata": {
    "ExecuteTime": {
     "end_time": "2022-07-21T15:38:08.933083Z",
     "start_time": "2022-07-21T15:38:08.872621Z"
    }
   },
   "outputs": [],
   "source": [
    "from sklearn.model_selection import train_test_split\n",
    "x_train, x_test, y_train, y_test = train_test_split(x, y, test_size = 0.25, random_state = 0)"
   ]
  },
  {
   "cell_type": "code",
   "execution_count": 25,
   "id": "1c9a1698",
   "metadata": {
    "ExecuteTime": {
     "end_time": "2022-07-21T15:38:08.949087Z",
     "start_time": "2022-07-21T15:38:08.935085Z"
    }
   },
   "outputs": [
    {
     "data": {
      "text/html": [
       "<div>\n",
       "<style scoped>\n",
       "    .dataframe tbody tr th:only-of-type {\n",
       "        vertical-align: middle;\n",
       "    }\n",
       "\n",
       "    .dataframe tbody tr th {\n",
       "        vertical-align: top;\n",
       "    }\n",
       "\n",
       "    .dataframe thead th {\n",
       "        text-align: right;\n",
       "    }\n",
       "</style>\n",
       "<table border=\"1\" class=\"dataframe\">\n",
       "  <thead>\n",
       "    <tr style=\"text-align: right;\">\n",
       "      <th></th>\n",
       "      <th>race</th>\n",
       "      <th>gender</th>\n",
       "      <th>age</th>\n",
       "      <th>admission_type_id</th>\n",
       "      <th>discharge_disposition_id</th>\n",
       "      <th>admission_source_id</th>\n",
       "      <th>time_in_hospital</th>\n",
       "      <th>num_lab_procedures</th>\n",
       "      <th>num_procedures</th>\n",
       "      <th>num_medications</th>\n",
       "      <th>number_outpatient</th>\n",
       "      <th>number_emergency</th>\n",
       "      <th>number_inpatient</th>\n",
       "      <th>number_diagnoses</th>\n",
       "      <th>change</th>\n",
       "    </tr>\n",
       "  </thead>\n",
       "  <tbody>\n",
       "    <tr>\n",
       "      <th>66671</th>\n",
       "      <td>AfricanAmerican</td>\n",
       "      <td>Female</td>\n",
       "      <td>[50-60)</td>\n",
       "      <td>1</td>\n",
       "      <td>1</td>\n",
       "      <td>7</td>\n",
       "      <td>2</td>\n",
       "      <td>72</td>\n",
       "      <td>1</td>\n",
       "      <td>18</td>\n",
       "      <td>0</td>\n",
       "      <td>0</td>\n",
       "      <td>0</td>\n",
       "      <td>9</td>\n",
       "      <td>No</td>\n",
       "    </tr>\n",
       "    <tr>\n",
       "      <th>4429</th>\n",
       "      <td>Caucasian</td>\n",
       "      <td>Male</td>\n",
       "      <td>[70-80)</td>\n",
       "      <td>5</td>\n",
       "      <td>11</td>\n",
       "      <td>17</td>\n",
       "      <td>9</td>\n",
       "      <td>23</td>\n",
       "      <td>0</td>\n",
       "      <td>18</td>\n",
       "      <td>0</td>\n",
       "      <td>1</td>\n",
       "      <td>0</td>\n",
       "      <td>5</td>\n",
       "      <td>No</td>\n",
       "    </tr>\n",
       "    <tr>\n",
       "      <th>16083</th>\n",
       "      <td>Caucasian</td>\n",
       "      <td>Female</td>\n",
       "      <td>[80-90)</td>\n",
       "      <td>2</td>\n",
       "      <td>6</td>\n",
       "      <td>6</td>\n",
       "      <td>9</td>\n",
       "      <td>63</td>\n",
       "      <td>0</td>\n",
       "      <td>17</td>\n",
       "      <td>0</td>\n",
       "      <td>0</td>\n",
       "      <td>0</td>\n",
       "      <td>9</td>\n",
       "      <td>No</td>\n",
       "    </tr>\n",
       "    <tr>\n",
       "      <th>35178</th>\n",
       "      <td>Caucasian</td>\n",
       "      <td>Female</td>\n",
       "      <td>[60-70)</td>\n",
       "      <td>2</td>\n",
       "      <td>1</td>\n",
       "      <td>1</td>\n",
       "      <td>6</td>\n",
       "      <td>28</td>\n",
       "      <td>5</td>\n",
       "      <td>10</td>\n",
       "      <td>0</td>\n",
       "      <td>0</td>\n",
       "      <td>0</td>\n",
       "      <td>5</td>\n",
       "      <td>No</td>\n",
       "    </tr>\n",
       "    <tr>\n",
       "      <th>45390</th>\n",
       "      <td>Caucasian</td>\n",
       "      <td>Female</td>\n",
       "      <td>[70-80)</td>\n",
       "      <td>1</td>\n",
       "      <td>1</td>\n",
       "      <td>7</td>\n",
       "      <td>6</td>\n",
       "      <td>35</td>\n",
       "      <td>1</td>\n",
       "      <td>22</td>\n",
       "      <td>3</td>\n",
       "      <td>0</td>\n",
       "      <td>1</td>\n",
       "      <td>9</td>\n",
       "      <td>No</td>\n",
       "    </tr>\n",
       "  </tbody>\n",
       "</table>\n",
       "</div>"
      ],
      "text/plain": [
       "                  race  gender      age  admission_type_id  \\\n",
       "66671  AfricanAmerican  Female  [50-60)                  1   \n",
       "4429         Caucasian    Male  [70-80)                  5   \n",
       "16083        Caucasian  Female  [80-90)                  2   \n",
       "35178        Caucasian  Female  [60-70)                  2   \n",
       "45390        Caucasian  Female  [70-80)                  1   \n",
       "\n",
       "       discharge_disposition_id  admission_source_id  time_in_hospital  \\\n",
       "66671                         1                    7                 2   \n",
       "4429                         11                   17                 9   \n",
       "16083                         6                    6                 9   \n",
       "35178                         1                    1                 6   \n",
       "45390                         1                    7                 6   \n",
       "\n",
       "       num_lab_procedures  num_procedures  num_medications  number_outpatient  \\\n",
       "66671                  72               1               18                  0   \n",
       "4429                   23               0               18                  0   \n",
       "16083                  63               0               17                  0   \n",
       "35178                  28               5               10                  0   \n",
       "45390                  35               1               22                  3   \n",
       "\n",
       "       number_emergency  number_inpatient  number_diagnoses change  \n",
       "66671                 0                 0                 9     No  \n",
       "4429                  1                 0                 5     No  \n",
       "16083                 0                 0                 9     No  \n",
       "35178                 0                 0                 5     No  \n",
       "45390                 0                 1                 9     No  "
      ]
     },
     "execution_count": 25,
     "metadata": {},
     "output_type": "execute_result"
    }
   ],
   "source": [
    "x_train.head()"
   ]
  },
  {
   "cell_type": "code",
   "execution_count": 26,
   "id": "ec01f801",
   "metadata": {
    "ExecuteTime": {
     "end_time": "2022-07-21T15:38:08.964091Z",
     "start_time": "2022-07-21T15:38:08.951088Z"
    }
   },
   "outputs": [
    {
     "data": {
      "text/html": [
       "<div>\n",
       "<style scoped>\n",
       "    .dataframe tbody tr th:only-of-type {\n",
       "        vertical-align: middle;\n",
       "    }\n",
       "\n",
       "    .dataframe tbody tr th {\n",
       "        vertical-align: top;\n",
       "    }\n",
       "\n",
       "    .dataframe thead th {\n",
       "        text-align: right;\n",
       "    }\n",
       "</style>\n",
       "<table border=\"1\" class=\"dataframe\">\n",
       "  <thead>\n",
       "    <tr style=\"text-align: right;\">\n",
       "      <th></th>\n",
       "      <th>race</th>\n",
       "      <th>gender</th>\n",
       "      <th>age</th>\n",
       "      <th>admission_type_id</th>\n",
       "      <th>discharge_disposition_id</th>\n",
       "      <th>admission_source_id</th>\n",
       "      <th>time_in_hospital</th>\n",
       "      <th>num_lab_procedures</th>\n",
       "      <th>num_procedures</th>\n",
       "      <th>num_medications</th>\n",
       "      <th>number_outpatient</th>\n",
       "      <th>number_emergency</th>\n",
       "      <th>number_inpatient</th>\n",
       "      <th>number_diagnoses</th>\n",
       "      <th>change</th>\n",
       "    </tr>\n",
       "  </thead>\n",
       "  <tbody>\n",
       "    <tr>\n",
       "      <th>50590</th>\n",
       "      <td>Caucasian</td>\n",
       "      <td>Female</td>\n",
       "      <td>[60-70)</td>\n",
       "      <td>3</td>\n",
       "      <td>1</td>\n",
       "      <td>1</td>\n",
       "      <td>4</td>\n",
       "      <td>42</td>\n",
       "      <td>0</td>\n",
       "      <td>11</td>\n",
       "      <td>3</td>\n",
       "      <td>0</td>\n",
       "      <td>0</td>\n",
       "      <td>5</td>\n",
       "      <td>Ch</td>\n",
       "    </tr>\n",
       "    <tr>\n",
       "      <th>1610</th>\n",
       "      <td>Caucasian</td>\n",
       "      <td>Male</td>\n",
       "      <td>[50-60)</td>\n",
       "      <td>1</td>\n",
       "      <td>3</td>\n",
       "      <td>7</td>\n",
       "      <td>10</td>\n",
       "      <td>81</td>\n",
       "      <td>6</td>\n",
       "      <td>22</td>\n",
       "      <td>0</td>\n",
       "      <td>0</td>\n",
       "      <td>1</td>\n",
       "      <td>9</td>\n",
       "      <td>Ch</td>\n",
       "    </tr>\n",
       "    <tr>\n",
       "      <th>40415</th>\n",
       "      <td>Caucasian</td>\n",
       "      <td>Male</td>\n",
       "      <td>[70-80)</td>\n",
       "      <td>1</td>\n",
       "      <td>1</td>\n",
       "      <td>7</td>\n",
       "      <td>1</td>\n",
       "      <td>44</td>\n",
       "      <td>0</td>\n",
       "      <td>11</td>\n",
       "      <td>0</td>\n",
       "      <td>0</td>\n",
       "      <td>0</td>\n",
       "      <td>5</td>\n",
       "      <td>Ch</td>\n",
       "    </tr>\n",
       "    <tr>\n",
       "      <th>41496</th>\n",
       "      <td>AfricanAmerican</td>\n",
       "      <td>Male</td>\n",
       "      <td>[60-70)</td>\n",
       "      <td>3</td>\n",
       "      <td>1</td>\n",
       "      <td>1</td>\n",
       "      <td>4</td>\n",
       "      <td>36</td>\n",
       "      <td>2</td>\n",
       "      <td>21</td>\n",
       "      <td>0</td>\n",
       "      <td>1</td>\n",
       "      <td>5</td>\n",
       "      <td>9</td>\n",
       "      <td>Ch</td>\n",
       "    </tr>\n",
       "    <tr>\n",
       "      <th>51050</th>\n",
       "      <td>AfricanAmerican</td>\n",
       "      <td>Male</td>\n",
       "      <td>[40-50)</td>\n",
       "      <td>1</td>\n",
       "      <td>1</td>\n",
       "      <td>7</td>\n",
       "      <td>2</td>\n",
       "      <td>34</td>\n",
       "      <td>0</td>\n",
       "      <td>4</td>\n",
       "      <td>0</td>\n",
       "      <td>3</td>\n",
       "      <td>3</td>\n",
       "      <td>6</td>\n",
       "      <td>Ch</td>\n",
       "    </tr>\n",
       "  </tbody>\n",
       "</table>\n",
       "</div>"
      ],
      "text/plain": [
       "                  race  gender      age  admission_type_id  \\\n",
       "50590        Caucasian  Female  [60-70)                  3   \n",
       "1610         Caucasian    Male  [50-60)                  1   \n",
       "40415        Caucasian    Male  [70-80)                  1   \n",
       "41496  AfricanAmerican    Male  [60-70)                  3   \n",
       "51050  AfricanAmerican    Male  [40-50)                  1   \n",
       "\n",
       "       discharge_disposition_id  admission_source_id  time_in_hospital  \\\n",
       "50590                         1                    1                 4   \n",
       "1610                          3                    7                10   \n",
       "40415                         1                    7                 1   \n",
       "41496                         1                    1                 4   \n",
       "51050                         1                    7                 2   \n",
       "\n",
       "       num_lab_procedures  num_procedures  num_medications  number_outpatient  \\\n",
       "50590                  42               0               11                  3   \n",
       "1610                   81               6               22                  0   \n",
       "40415                  44               0               11                  0   \n",
       "41496                  36               2               21                  0   \n",
       "51050                  34               0                4                  0   \n",
       "\n",
       "       number_emergency  number_inpatient  number_diagnoses change  \n",
       "50590                 0                 0                 5     Ch  \n",
       "1610                  0                 1                 9     Ch  \n",
       "40415                 0                 0                 5     Ch  \n",
       "41496                 1                 5                 9     Ch  \n",
       "51050                 3                 3                 6     Ch  "
      ]
     },
     "execution_count": 26,
     "metadata": {},
     "output_type": "execute_result"
    }
   ],
   "source": [
    "x_test.head()"
   ]
  },
  {
   "cell_type": "code",
   "execution_count": 90,
   "id": "d8de900e",
   "metadata": {
    "ExecuteTime": {
     "end_time": "2022-07-21T17:54:50.057783Z",
     "start_time": "2022-07-21T17:54:50.042620Z"
    }
   },
   "outputs": [
    {
     "data": {
      "text/plain": [
       "(70180, 16)"
      ]
     },
     "execution_count": 90,
     "metadata": {},
     "output_type": "execute_result"
    }
   ],
   "source": [
    "df1.shape"
   ]
  },
  {
   "cell_type": "code",
   "execution_count": 27,
   "id": "a8e4ffe9",
   "metadata": {
    "ExecuteTime": {
     "end_time": "2022-07-21T15:38:08.980094Z",
     "start_time": "2022-07-21T15:38:08.967094Z"
    }
   },
   "outputs": [],
   "source": [
    "from sklearn.preprocessing import OneHotEncoder\n",
    "from sklearn.compose import ColumnTransformer"
   ]
  },
  {
   "cell_type": "code",
   "execution_count": 28,
   "id": "c3b5b4a5",
   "metadata": {
    "ExecuteTime": {
     "end_time": "2022-07-21T15:38:08.995098Z",
     "start_time": "2022-07-21T15:38:08.984095Z"
    }
   },
   "outputs": [],
   "source": [
    "transform = ColumnTransformer(transformers=[('on',OneHotEncoder(drop = 'first' , sparse=False,dtype='int64'),['race','age','gender','change'])],remainder='passthrough')"
   ]
  },
  {
   "cell_type": "code",
   "execution_count": 29,
   "id": "7f8c8cc3",
   "metadata": {
    "ExecuteTime": {
     "end_time": "2022-07-21T15:38:09.074998Z",
     "start_time": "2022-07-21T15:38:08.997099Z"
    }
   },
   "outputs": [],
   "source": [
    "x_train = transform.fit_transform(x_train)"
   ]
  },
  {
   "cell_type": "code",
   "execution_count": 30,
   "id": "d6eddd36",
   "metadata": {
    "ExecuteTime": {
     "end_time": "2022-07-21T15:38:09.122753Z",
     "start_time": "2022-07-21T15:38:09.077000Z"
    }
   },
   "outputs": [],
   "source": [
    "x_test=transform.transform(x_test)"
   ]
  },
  {
   "cell_type": "markdown",
   "id": "9c4bc9d8",
   "metadata": {
    "ExecuteTime": {
     "end_time": "2022-07-21T15:33:09.661707Z",
     "start_time": "2022-07-21T15:33:09.639703Z"
    }
   },
   "source": [
    "# Logistic Regression\n"
   ]
  },
  {
   "cell_type": "code",
   "execution_count": 31,
   "id": "ddb50735",
   "metadata": {
    "ExecuteTime": {
     "end_time": "2022-07-21T15:38:09.824438Z",
     "start_time": "2022-07-21T15:38:09.125747Z"
    }
   },
   "outputs": [
    {
     "name": "stderr",
     "output_type": "stream",
     "text": [
      "D:\\Anaconda\\lib\\site-packages\\sklearn\\linear_model\\_logistic.py:814: ConvergenceWarning: lbfgs failed to converge (status=1):\n",
      "STOP: TOTAL NO. of ITERATIONS REACHED LIMIT.\n",
      "\n",
      "Increase the number of iterations (max_iter) or scale the data as shown in:\n",
      "    https://scikit-learn.org/stable/modules/preprocessing.html\n",
      "Please also refer to the documentation for alternative solver options:\n",
      "    https://scikit-learn.org/stable/modules/linear_model.html#logistic-regression\n",
      "  n_iter_i = _check_optimize_result(\n"
     ]
    },
    {
     "data": {
      "text/plain": [
       "LogisticRegression(random_state=0)"
      ]
     },
     "execution_count": 31,
     "metadata": {},
     "output_type": "execute_result"
    }
   ],
   "source": [
    "from sklearn.linear_model import LogisticRegression\n",
    "classifier = LogisticRegression(random_state = 0)\n",
    "classifier.fit(x_train, y_train)"
   ]
  },
  {
   "cell_type": "code",
   "execution_count": 33,
   "id": "6f8fd7fe",
   "metadata": {
    "ExecuteTime": {
     "end_time": "2022-07-21T15:39:37.392146Z",
     "start_time": "2022-07-21T15:39:37.376071Z"
    }
   },
   "outputs": [],
   "source": [
    "y_pred = classifier.predict(x_test)"
   ]
  },
  {
   "cell_type": "markdown",
   "id": "52274295",
   "metadata": {},
   "source": [
    "Confusion metrics"
   ]
  },
  {
   "cell_type": "code",
   "execution_count": 55,
   "id": "8fba4a5e",
   "metadata": {
    "ExecuteTime": {
     "end_time": "2022-07-21T16:14:45.234190Z",
     "start_time": "2022-07-21T16:14:45.219735Z"
    }
   },
   "outputs": [],
   "source": [
    "from sklearn.metrics import confusion_matrix , accuracy_score , auc ,classification_report"
   ]
  },
  {
   "cell_type": "code",
   "execution_count": 36,
   "id": "ee6496aa",
   "metadata": {
    "ExecuteTime": {
     "end_time": "2022-07-21T15:43:24.603371Z",
     "start_time": "2022-07-21T15:43:24.552487Z"
    },
    "scrolled": true
   },
   "outputs": [
    {
     "data": {
      "text/plain": [
       "array([[3819, 2056],\n",
       "       [2705, 8965]], dtype=int64)"
      ]
     },
     "execution_count": 36,
     "metadata": {},
     "output_type": "execute_result"
    }
   ],
   "source": [
    "cm = confusion_matrix(y_test,y_pred)\n",
    "cm"
   ]
  },
  {
   "cell_type": "markdown",
   "id": "cc3df5dd",
   "metadata": {},
   "source": [
    "Accuracy score"
   ]
  },
  {
   "cell_type": "code",
   "execution_count": 38,
   "id": "a22df3f0",
   "metadata": {
    "ExecuteTime": {
     "end_time": "2022-07-21T15:45:13.702290Z",
     "start_time": "2022-07-21T15:45:13.668997Z"
    }
   },
   "outputs": [
    {
     "data": {
      "text/plain": [
       "0.7286406383585067"
      ]
     },
     "execution_count": 38,
     "metadata": {},
     "output_type": "execute_result"
    }
   ],
   "source": [
    "accuracy_score(y_test , y_pred)"
   ]
  },
  {
   "cell_type": "markdown",
   "id": "d003e296",
   "metadata": {},
   "source": [
    "AUC Score"
   ]
  },
  {
   "cell_type": "code",
   "execution_count": 39,
   "id": "c1a74b6b",
   "metadata": {
    "ExecuteTime": {
     "end_time": "2022-07-21T15:50:04.370325Z",
     "start_time": "2022-07-21T15:50:04.362816Z"
    }
   },
   "outputs": [],
   "source": [
    "from sklearn import metrics"
   ]
  },
  {
   "cell_type": "code",
   "execution_count": 42,
   "id": "2af9ccab",
   "metadata": {
    "ExecuteTime": {
     "end_time": "2022-07-21T15:57:19.168366Z",
     "start_time": "2022-07-21T15:57:19.149822Z"
    }
   },
   "outputs": [],
   "source": [
    "log = classifier.predict_proba(x_test)"
   ]
  },
  {
   "cell_type": "code",
   "execution_count": 45,
   "id": "8865ae58",
   "metadata": {
    "ExecuteTime": {
     "end_time": "2022-07-21T16:00:17.851628Z",
     "start_time": "2022-07-21T16:00:17.838425Z"
    }
   },
   "outputs": [],
   "source": [
    "log = log[:,1]"
   ]
  },
  {
   "cell_type": "code",
   "execution_count": 46,
   "id": "4ab8bdea",
   "metadata": {
    "ExecuteTime": {
     "end_time": "2022-07-21T16:03:21.382612Z",
     "start_time": "2022-07-21T16:03:21.348641Z"
    }
   },
   "outputs": [],
   "source": [
    "auc =  metrics.roc_auc_score(y_test,log)"
   ]
  },
  {
   "cell_type": "code",
   "execution_count": 47,
   "id": "7a912995",
   "metadata": {
    "ExecuteTime": {
     "end_time": "2022-07-21T16:03:27.159905Z",
     "start_time": "2022-07-21T16:03:27.153895Z"
    }
   },
   "outputs": [
    {
     "data": {
      "text/plain": [
       "0.8184535944137542"
      ]
     },
     "execution_count": 47,
     "metadata": {},
     "output_type": "execute_result"
    }
   ],
   "source": [
    "auc"
   ]
  },
  {
   "cell_type": "markdown",
   "id": "02bb7a9e",
   "metadata": {},
   "source": [
    "Classification Report"
   ]
  },
  {
   "cell_type": "code",
   "execution_count": 58,
   "id": "a042c27b",
   "metadata": {
    "ExecuteTime": {
     "end_time": "2022-07-21T16:15:15.484965Z",
     "start_time": "2022-07-21T16:15:15.146314Z"
    }
   },
   "outputs": [
    {
     "name": "stdout",
     "output_type": "stream",
     "text": [
      "              precision    recall  f1-score   support\n",
      "\n",
      "          No       0.59      0.65      0.62      5875\n",
      "         Yes       0.81      0.77      0.79     11670\n",
      "\n",
      "    accuracy                           0.73     17545\n",
      "   macro avg       0.70      0.71      0.70     17545\n",
      "weighted avg       0.74      0.73      0.73     17545\n",
      "\n"
     ]
    }
   ],
   "source": [
    "cr = classification_report(y_test,y_pred)\n",
    "print(cr)"
   ]
  },
  {
   "cell_type": "markdown",
   "id": "2d3cba80",
   "metadata": {},
   "source": [
    "# Decision Tree"
   ]
  },
  {
   "cell_type": "code",
   "execution_count": 49,
   "id": "47bf4b66",
   "metadata": {
    "ExecuteTime": {
     "end_time": "2022-07-21T16:10:39.604697Z",
     "start_time": "2022-07-21T16:10:39.311293Z"
    }
   },
   "outputs": [
    {
     "data": {
      "text/plain": [
       "DecisionTreeClassifier(criterion='entropy', random_state=0)"
      ]
     },
     "execution_count": 49,
     "metadata": {},
     "output_type": "execute_result"
    }
   ],
   "source": [
    "from sklearn.tree import DecisionTreeClassifier\n",
    "model2 = DecisionTreeClassifier(criterion = 'entropy', random_state = 0)\n",
    "model2.fit(x_train, y_train)"
   ]
  },
  {
   "cell_type": "code",
   "execution_count": 53,
   "id": "0d41c674",
   "metadata": {
    "ExecuteTime": {
     "end_time": "2022-07-21T16:11:43.026346Z",
     "start_time": "2022-07-21T16:11:43.010661Z"
    }
   },
   "outputs": [],
   "source": [
    "y_pred2 = model2.predict(x_test)"
   ]
  },
  {
   "cell_type": "markdown",
   "id": "9ea933ed",
   "metadata": {},
   "source": [
    "Confusion metrics"
   ]
  },
  {
   "cell_type": "code",
   "execution_count": 54,
   "id": "aded4d82",
   "metadata": {
    "ExecuteTime": {
     "end_time": "2022-07-21T16:11:44.913628Z",
     "start_time": "2022-07-21T16:11:44.852121Z"
    }
   },
   "outputs": [
    {
     "data": {
      "text/plain": [
       "array([[3311, 2564],\n",
       "       [2441, 9229]], dtype=int64)"
      ]
     },
     "execution_count": 54,
     "metadata": {},
     "output_type": "execute_result"
    }
   ],
   "source": [
    "cm = confusion_matrix(y_test,y_pred2)\n",
    "cm"
   ]
  },
  {
   "cell_type": "code",
   "execution_count": 60,
   "id": "420e6542",
   "metadata": {
    "ExecuteTime": {
     "end_time": "2022-07-21T16:24:27.163683Z",
     "start_time": "2022-07-21T16:24:27.136997Z"
    }
   },
   "outputs": [
    {
     "data": {
      "text/plain": [
       "0.6771913726777151"
      ]
     },
     "execution_count": 60,
     "metadata": {},
     "output_type": "execute_result"
    }
   ],
   "source": [
    "log2 = model2.predict_proba(x_test)\n",
    "log2 = log2[:,1]\n",
    "auc =  metrics.roc_auc_score(y_test,log2)\n",
    "auc"
   ]
  },
  {
   "cell_type": "code",
   "execution_count": null,
   "id": "10101399",
   "metadata": {},
   "outputs": [],
   "source": []
  },
  {
   "cell_type": "markdown",
   "id": "323d91ee",
   "metadata": {},
   "source": [
    "Accuracy score"
   ]
  },
  {
   "cell_type": "code",
   "execution_count": 61,
   "id": "62f490a0",
   "metadata": {
    "ExecuteTime": {
     "end_time": "2022-07-21T16:24:54.266959Z",
     "start_time": "2022-07-21T16:24:54.240942Z"
    }
   },
   "outputs": [
    {
     "data": {
      "text/plain": [
       "0.7147335423197492"
      ]
     },
     "execution_count": 61,
     "metadata": {},
     "output_type": "execute_result"
    }
   ],
   "source": [
    "accuracy_score(y_test , y_pred2)"
   ]
  },
  {
   "cell_type": "markdown",
   "id": "c1290d13",
   "metadata": {
    "ExecuteTime": {
     "end_time": "2022-07-21T17:06:18.740014Z",
     "start_time": "2022-07-21T17:06:18.730492Z"
    }
   },
   "source": [
    "Classification Report"
   ]
  },
  {
   "cell_type": "code",
   "execution_count": 62,
   "id": "30aa97f5",
   "metadata": {
    "ExecuteTime": {
     "end_time": "2022-07-21T16:25:07.531824Z",
     "start_time": "2022-07-21T16:25:07.159376Z"
    },
    "scrolled": true
   },
   "outputs": [
    {
     "name": "stdout",
     "output_type": "stream",
     "text": [
      "              precision    recall  f1-score   support\n",
      "\n",
      "          No       0.58      0.56      0.57      5875\n",
      "         Yes       0.78      0.79      0.79     11670\n",
      "\n",
      "    accuracy                           0.71     17545\n",
      "   macro avg       0.68      0.68      0.68     17545\n",
      "weighted avg       0.71      0.71      0.71     17545\n",
      "\n"
     ]
    }
   ],
   "source": [
    "cr = classification_report(y_test,y_pred2)\n",
    "print(cr)"
   ]
  },
  {
   "cell_type": "markdown",
   "id": "5e30bd78",
   "metadata": {
    "ExecuteTime": {
     "end_time": "2022-07-21T17:59:34.301388Z",
     "start_time": "2022-07-21T17:59:34.288015Z"
    }
   },
   "source": [
    "Feature Importance"
   ]
  },
  {
   "cell_type": "code",
   "execution_count": 88,
   "id": "0df6544a",
   "metadata": {
    "ExecuteTime": {
     "end_time": "2022-07-21T17:53:27.074350Z",
     "start_time": "2022-07-21T17:53:27.044464Z"
    }
   },
   "outputs": [],
   "source": [
    "from sklearn.datasets import make_classification\n"
   ]
  },
  {
   "cell_type": "code",
   "execution_count": 93,
   "id": "6f124abf",
   "metadata": {
    "ExecuteTime": {
     "end_time": "2022-07-21T17:57:49.315283Z",
     "start_time": "2022-07-21T17:57:49.203953Z"
    }
   },
   "outputs": [],
   "source": [
    "x,y = make_classification(n_samples=1000 , n_classes=2 , n_features=2 , n_informative=2 , n_redundant=0 , random_state=0)"
   ]
  },
  {
   "cell_type": "code",
   "execution_count": 94,
   "id": "996dde08",
   "metadata": {
    "ExecuteTime": {
     "end_time": "2022-07-21T17:58:11.889928Z",
     "start_time": "2022-07-21T17:58:11.881073Z"
    }
   },
   "outputs": [],
   "source": [
    "cl = DecisionTreeClassifier()"
   ]
  },
  {
   "cell_type": "code",
   "execution_count": 95,
   "id": "bae0cf9b",
   "metadata": {
    "ExecuteTime": {
     "end_time": "2022-07-21T17:58:25.880709Z",
     "start_time": "2022-07-21T17:58:25.854711Z"
    }
   },
   "outputs": [
    {
     "data": {
      "text/plain": [
       "DecisionTreeClassifier()"
      ]
     },
     "execution_count": 95,
     "metadata": {},
     "output_type": "execute_result"
    }
   ],
   "source": [
    "cl.fit(x,y)"
   ]
  },
  {
   "cell_type": "code",
   "execution_count": 96,
   "id": "28a5d6d6",
   "metadata": {
    "ExecuteTime": {
     "end_time": "2022-07-21T17:58:48.595825Z",
     "start_time": "2022-07-21T17:58:48.578740Z"
    }
   },
   "outputs": [
    {
     "data": {
      "text/plain": [
       "array([0.1011357, 0.8988643])"
      ]
     },
     "execution_count": 96,
     "metadata": {},
     "output_type": "execute_result"
    }
   ],
   "source": [
    "cl.feature_importances_"
   ]
  },
  {
   "cell_type": "code",
   "execution_count": null,
   "id": "bf4b90c4",
   "metadata": {},
   "outputs": [],
   "source": []
  },
  {
   "cell_type": "code",
   "execution_count": null,
   "id": "3c6c69fd",
   "metadata": {},
   "outputs": [],
   "source": []
  },
  {
   "cell_type": "code",
   "execution_count": null,
   "id": "b7b51a7b",
   "metadata": {},
   "outputs": [],
   "source": []
  },
  {
   "cell_type": "code",
   "execution_count": null,
   "id": "944f6a4f",
   "metadata": {},
   "outputs": [],
   "source": []
  },
  {
   "cell_type": "markdown",
   "id": "2d9a5e55",
   "metadata": {},
   "source": [
    "# Random Forest"
   ]
  },
  {
   "cell_type": "code",
   "execution_count": 64,
   "id": "8e714d73",
   "metadata": {
    "ExecuteTime": {
     "end_time": "2022-07-21T16:37:53.327462Z",
     "start_time": "2022-07-21T16:37:52.812169Z"
    }
   },
   "outputs": [
    {
     "data": {
      "text/plain": [
       "RandomForestClassifier(criterion='entropy', n_estimators=10, random_state=0)"
      ]
     },
     "execution_count": 64,
     "metadata": {},
     "output_type": "execute_result"
    }
   ],
   "source": [
    "from sklearn.ensemble import RandomForestClassifier\n",
    "model3 = RandomForestClassifier(n_estimators = 10, criterion = 'entropy', random_state = 0)\n",
    "model3.fit(x_train, y_train)"
   ]
  },
  {
   "cell_type": "code",
   "execution_count": 68,
   "id": "4a879bf3",
   "metadata": {
    "ExecuteTime": {
     "end_time": "2022-07-21T16:38:39.461871Z",
     "start_time": "2022-07-21T16:38:39.421667Z"
    }
   },
   "outputs": [],
   "source": [
    "y_pred3 = model3.predict(x_test)"
   ]
  },
  {
   "cell_type": "markdown",
   "id": "b179be5c",
   "metadata": {},
   "source": [
    "Confusion metrics"
   ]
  },
  {
   "cell_type": "code",
   "execution_count": 69,
   "id": "3499b6d7",
   "metadata": {
    "ExecuteTime": {
     "end_time": "2022-07-21T16:38:41.077661Z",
     "start_time": "2022-07-21T16:38:41.018928Z"
    },
    "scrolled": true
   },
   "outputs": [
    {
     "data": {
      "text/plain": [
       "array([[4054, 1821],\n",
       "       [2912, 8758]], dtype=int64)"
      ]
     },
     "execution_count": 69,
     "metadata": {},
     "output_type": "execute_result"
    }
   ],
   "source": [
    "cm = confusion_matrix(y_test,y_pred3)\n",
    "cm"
   ]
  },
  {
   "cell_type": "markdown",
   "id": "2ef56257",
   "metadata": {},
   "source": [
    "AUC Score"
   ]
  },
  {
   "cell_type": "code",
   "execution_count": 71,
   "id": "1d535735",
   "metadata": {
    "ExecuteTime": {
     "end_time": "2022-07-21T16:39:18.948926Z",
     "start_time": "2022-07-21T16:39:18.881657Z"
    }
   },
   "outputs": [
    {
     "data": {
      "text/plain": [
       "0.8164984521139858"
      ]
     },
     "execution_count": 71,
     "metadata": {},
     "output_type": "execute_result"
    }
   ],
   "source": [
    "log3 = model3.predict_proba(x_test)\n",
    "log3 = log3[:,1]\n",
    "auc =  metrics.roc_auc_score(y_test,log3)\n",
    "auc"
   ]
  },
  {
   "cell_type": "markdown",
   "id": "c1138fa5",
   "metadata": {},
   "source": [
    "Accuracy score"
   ]
  },
  {
   "cell_type": "code",
   "execution_count": 72,
   "id": "a5c510db",
   "metadata": {
    "ExecuteTime": {
     "end_time": "2022-07-21T16:56:28.070636Z",
     "start_time": "2022-07-21T16:56:28.041893Z"
    },
    "scrolled": true
   },
   "outputs": [
    {
     "data": {
      "text/plain": [
       "0.7302365346252494"
      ]
     },
     "execution_count": 72,
     "metadata": {},
     "output_type": "execute_result"
    }
   ],
   "source": [
    "accuracy_score(y_test , y_pred3)"
   ]
  },
  {
   "cell_type": "markdown",
   "id": "9112652f",
   "metadata": {},
   "source": [
    "classification report"
   ]
  },
  {
   "cell_type": "code",
   "execution_count": 87,
   "id": "e067ae15",
   "metadata": {
    "ExecuteTime": {
     "end_time": "2022-07-21T17:20:22.104017Z",
     "start_time": "2022-07-21T17:20:21.768895Z"
    }
   },
   "outputs": [
    {
     "name": "stdout",
     "output_type": "stream",
     "text": [
      "              precision    recall  f1-score   support\n",
      "\n",
      "          No       0.58      0.69      0.63      5875\n",
      "         Yes       0.83      0.75      0.79     11670\n",
      "\n",
      "    accuracy                           0.73     17545\n",
      "   macro avg       0.70      0.72      0.71     17545\n",
      "weighted avg       0.75      0.73      0.74     17545\n",
      "\n"
     ]
    }
   ],
   "source": [
    "cr = classification_report(y_test,y_pred3)\n",
    "print(cr)"
   ]
  },
  {
   "cell_type": "markdown",
   "id": "4f153aab",
   "metadata": {},
   "source": [
    "# DecisionTree using GridSearchCV"
   ]
  },
  {
   "cell_type": "code",
   "execution_count": 75,
   "id": "36eb60bc",
   "metadata": {
    "ExecuteTime": {
     "end_time": "2022-07-21T17:10:39.786425Z",
     "start_time": "2022-07-21T17:10:39.782424Z"
    }
   },
   "outputs": [],
   "source": [
    "from sklearn.model_selection import GridSearchCV\n",
    "\n",
    "param_grid = {'max_features': ['auto', 'sqrt', 'log2'],\n",
    "              'ccp_alpha': [0.1, .01, .001],\n",
    "              'max_depth' : [5, 6, 7, 8, 9],\n",
    "              'criterion' :['gini', 'entropy']\n",
    "             }\n"
   ]
  },
  {
   "cell_type": "code",
   "execution_count": 76,
   "id": "a231dc4a",
   "metadata": {
    "ExecuteTime": {
     "end_time": "2022-07-21T17:13:12.843212Z",
     "start_time": "2022-07-21T17:13:12.830280Z"
    }
   },
   "outputs": [],
   "source": [
    "dec = DecisionTreeClassifier(random_state=0)\n",
    "grid = GridSearchCV(estimator=dec , param_grid=param_grid , cv=5 , verbose=True)"
   ]
  },
  {
   "cell_type": "code",
   "execution_count": 77,
   "id": "dd1a3114",
   "metadata": {
    "ExecuteTime": {
     "end_time": "2022-07-21T17:14:14.130125Z",
     "start_time": "2022-07-21T17:13:47.106995Z"
    }
   },
   "outputs": [
    {
     "name": "stdout",
     "output_type": "stream",
     "text": [
      "Fitting 5 folds for each of 90 candidates, totalling 450 fits\n"
     ]
    },
    {
     "data": {
      "text/plain": [
       "GridSearchCV(cv=5, estimator=DecisionTreeClassifier(random_state=0),\n",
       "             param_grid={'ccp_alpha': [0.1, 0.01, 0.001],\n",
       "                         'criterion': ['gini', 'entropy'],\n",
       "                         'max_depth': [5, 6, 7, 8, 9],\n",
       "                         'max_features': ['auto', 'sqrt', 'log2']},\n",
       "             verbose=True)"
      ]
     },
     "execution_count": 77,
     "metadata": {},
     "output_type": "execute_result"
    }
   ],
   "source": [
    "grid.fit(x_train , y_train)"
   ]
  },
  {
   "cell_type": "code",
   "execution_count": 78,
   "id": "df18e01c",
   "metadata": {
    "ExecuteTime": {
     "end_time": "2022-07-21T17:14:44.667285Z",
     "start_time": "2022-07-21T17:14:44.658276Z"
    }
   },
   "outputs": [],
   "source": [
    "model4 = grid.best_estimator_"
   ]
  },
  {
   "cell_type": "code",
   "execution_count": 79,
   "id": "5c0fe8ef",
   "metadata": {
    "ExecuteTime": {
     "end_time": "2022-07-21T17:15:27.922698Z",
     "start_time": "2022-07-21T17:15:27.913055Z"
    }
   },
   "outputs": [],
   "source": [
    "y_pred4 = model4.predict(x_test)"
   ]
  },
  {
   "cell_type": "markdown",
   "id": "57b42d2e",
   "metadata": {},
   "source": [
    "Confusion metrics"
   ]
  },
  {
   "cell_type": "code",
   "execution_count": 80,
   "id": "68857ad6",
   "metadata": {
    "ExecuteTime": {
     "end_time": "2022-07-21T17:17:49.665231Z",
     "start_time": "2022-07-21T17:17:49.606719Z"
    }
   },
   "outputs": [
    {
     "data": {
      "text/plain": [
       "array([[5853,   22],\n",
       "       [5116, 6554]], dtype=int64)"
      ]
     },
     "execution_count": 80,
     "metadata": {},
     "output_type": "execute_result"
    }
   ],
   "source": [
    "cm = confusion_matrix(y_test,y_pred4)\n",
    "cm"
   ]
  },
  {
   "cell_type": "markdown",
   "id": "7da7b221",
   "metadata": {},
   "source": [
    "AUC Score"
   ]
  },
  {
   "cell_type": "code",
   "execution_count": 81,
   "id": "370a0fcb",
   "metadata": {
    "ExecuteTime": {
     "end_time": "2022-07-21T17:18:32.543720Z",
     "start_time": "2022-07-21T17:18:32.496006Z"
    }
   },
   "outputs": [
    {
     "data": {
      "text/plain": [
       "0.7898037156557094"
      ]
     },
     "execution_count": 81,
     "metadata": {},
     "output_type": "execute_result"
    }
   ],
   "source": [
    "log4 = model4.predict_proba(x_test)\n",
    "log4 = log4[:,1]\n",
    "auc =  metrics.roc_auc_score(y_test,log4)\n",
    "auc"
   ]
  },
  {
   "cell_type": "markdown",
   "id": "fda72e8e",
   "metadata": {},
   "source": [
    "Accuracy score"
   ]
  },
  {
   "cell_type": "code",
   "execution_count": 85,
   "id": "e1d45bb9",
   "metadata": {
    "ExecuteTime": {
     "end_time": "2022-07-21T17:20:06.792827Z",
     "start_time": "2022-07-21T17:20:06.767065Z"
    }
   },
   "outputs": [
    {
     "data": {
      "text/plain": [
       "0.7071530350527215"
      ]
     },
     "execution_count": 85,
     "metadata": {},
     "output_type": "execute_result"
    }
   ],
   "source": [
    "accuracy_score(y_test , y_pred4)"
   ]
  },
  {
   "cell_type": "markdown",
   "id": "14fd17c6",
   "metadata": {},
   "source": [
    "classification report"
   ]
  },
  {
   "cell_type": "code",
   "execution_count": 86,
   "id": "3bcba259",
   "metadata": {
    "ExecuteTime": {
     "end_time": "2022-07-21T17:20:10.209553Z",
     "start_time": "2022-07-21T17:20:09.880665Z"
    }
   },
   "outputs": [
    {
     "name": "stdout",
     "output_type": "stream",
     "text": [
      "              precision    recall  f1-score   support\n",
      "\n",
      "          No       0.53      1.00      0.69      5875\n",
      "         Yes       1.00      0.56      0.72     11670\n",
      "\n",
      "    accuracy                           0.71     17545\n",
      "   macro avg       0.77      0.78      0.71     17545\n",
      "weighted avg       0.84      0.71      0.71     17545\n",
      "\n"
     ]
    }
   ],
   "source": [
    "cr = classification_report(y_test,y_pred4)\n",
    "print(cr)"
   ]
  },
  {
   "cell_type": "code",
   "execution_count": null,
   "id": "3e62b805",
   "metadata": {},
   "outputs": [],
   "source": []
  },
  {
   "cell_type": "code",
   "execution_count": null,
   "id": "d68eeb6f",
   "metadata": {},
   "outputs": [],
   "source": []
  },
  {
   "cell_type": "code",
   "execution_count": null,
   "id": "55b3ed8a",
   "metadata": {},
   "outputs": [],
   "source": []
  }
 ],
 "metadata": {
  "kernelspec": {
   "display_name": "Python 3 (ipykernel)",
   "language": "python",
   "name": "python3"
  },
  "language_info": {
   "codemirror_mode": {
    "name": "ipython",
    "version": 3
   },
   "file_extension": ".py",
   "mimetype": "text/x-python",
   "name": "python",
   "nbconvert_exporter": "python",
   "pygments_lexer": "ipython3",
   "version": "3.9.12"
  },
  "toc": {
   "base_numbering": 1,
   "nav_menu": {},
   "number_sections": true,
   "sideBar": true,
   "skip_h1_title": true,
   "title_cell": "Table of Contents",
   "title_sidebar": "Contents",
   "toc_cell": false,
   "toc_position": {
    "height": "calc(100% - 180px)",
    "left": "10px",
    "top": "150px",
    "width": "383.825px"
   },
   "toc_section_display": true,
   "toc_window_display": false
  }
 },
 "nbformat": 4,
 "nbformat_minor": 5
}
